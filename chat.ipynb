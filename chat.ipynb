{
 "cells": [
  {
   "cell_type": "markdown",
   "metadata": {},
   "source": [
    "# This notebook is for testing purposes , It is not the final deliverable.\n",
    "## Contents:\n",
    "1. [Diffie-Hellman Key Exchange](#1)\n",
    "2. [AlGamal](#2)\n",
    "3. [Verifying Signature](#3)\n",
    "4. [Handling Messages with AES](#4)\n",
    "5. [Integration to chat.py](#5)"
   ]
  },
  {
   "cell_type": "markdown",
   "metadata": {},
   "source": [
    "### Import relevant libraries"
   ]
  },
  {
   "cell_type": "code",
   "execution_count": 13,
   "metadata": {},
   "outputs": [
    {
     "ename": "ImportError",
     "evalue": "cannot import name 'deffie_hellman' from 'helpers.dh_gamal' (c:\\Users\\Oreo\\Documents\\Security\\Project\\helpers\\dh_gamal.py)",
     "output_type": "error",
     "traceback": [
      "\u001b[1;31m---------------------------------------------------------------------------\u001b[0m",
      "\u001b[1;31mImportError\u001b[0m                               Traceback (most recent call last)",
      "Cell \u001b[1;32mIn[13], line 1\u001b[0m\n\u001b[1;32m----> 1\u001b[0m \u001b[38;5;28;01mfrom\u001b[39;00m \u001b[38;5;21;01mhelpers\u001b[39;00m\u001b[38;5;21;01m.\u001b[39;00m\u001b[38;5;21;01mdh_gamal\u001b[39;00m \u001b[38;5;28;01mimport\u001b[39;00m deffie_hellman\n\u001b[0;32m      2\u001b[0m \u001b[38;5;28;01mfrom\u001b[39;00m \u001b[38;5;21;01mhelpers\u001b[39;00m\u001b[38;5;21;01m.\u001b[39;00m\u001b[38;5;21;01mtools\u001b[39;00m \u001b[38;5;28;01mimport\u001b[39;00m from_file\n\u001b[0;32m      3\u001b[0m \u001b[38;5;28;01mimport\u001b[39;00m \u001b[38;5;21;01mnumpy\u001b[39;00m \u001b[38;5;28;01mas\u001b[39;00m \u001b[38;5;21;01mnp\u001b[39;00m\n",
      "\u001b[1;31mImportError\u001b[0m: cannot import name 'deffie_hellman' from 'helpers.dh_gamal' (c:\\Users\\Oreo\\Documents\\Security\\Project\\helpers\\dh_gamal.py)"
     ]
    }
   ],
   "source": [
    "from helpers.dh_gamal import deffie_hellman\n",
    "from helpers.tools import from_file\n",
    "import numpy as np\n",
    "import hashlib\n",
    "\n",
    "%reload_ext autoreload\n",
    "%autoreload 2"
   ]
  },
  {
   "cell_type": "markdown",
   "metadata": {},
   "source": [
    "### 1. [Diffie-Hellman Key Exchange](#1) (Done)"
   ]
  },
  {
   "cell_type": "code",
   "execution_count": null,
   "metadata": {},
   "outputs": [],
   "source": [
    "q_dh , a_dh , q_gamal , a_gamal = from_file(\"agree.txt\")"
   ]
  },
  {
   "cell_type": "code",
   "execution_count": null,
   "metadata": {},
   "outputs": [
    {
     "name": "stdout",
     "output_type": "stream",
     "text": [
      "Alice Private Key for DH:  301\n",
      "Bob Private Key for DH:  125\n",
      "Alice Public Key for DH:  249\n",
      "Bob Public Key for DH:  104\n"
     ]
    }
   ],
   "source": [
    "X_a = np.random.randint(2, q_dh)\n",
    "print(\"Alice Private Key for DH: \", X_a)\n",
    "X_b = np.random.randint(2, q_dh)\n",
    "print(\"Bob Private Key for DH: \", X_b)\n",
    "Y_a = deffie_hellman(prime=q_dh, generator=a_dh, private_key=X_a)\n",
    "print(\"Alice Public Key for DH: \", Y_a)\n",
    "Y_b = deffie_hellman(prime=q_dh, generator=a_dh, private_key=X_b)\n",
    "print(\"Bob Public Key for DH: \", Y_b)\n",
    "\n"
   ]
  },
  {
   "cell_type": "code",
   "execution_count": null,
   "metadata": {},
   "outputs": [
    {
     "name": "stdout",
     "output_type": "stream",
     "text": [
      "Alice Private Key for Al-Gamal:  229\n",
      "Bob Private Key for Al-Gamal:  60\n",
      "Alice Public Key for Al-Gamal:  51\n",
      "Bob Public Key for Al-Gamal:  11\n"
     ]
    }
   ],
   "source": [
    "X_a2 = np.random.randint(2,q_gamal)\n",
    "print(\"Alice Private Key for Al-Gamal: \", X_a2)\n",
    "X_b2 = np.random.randint(2, q_gamal)\n",
    "print(\"Bob Private Key for Al-Gamal: \", X_b2)\n",
    "Y_a2 = deffie_hellman(prime=q_gamal, generator=a_gamal, private_key=X_a2)\n",
    "print(\"Alice Public Key for Al-Gamal: \", Y_a2)\n",
    "Y_b2 = deffie_hellman(prime=q_gamal, generator=a_gamal, private_key=X_b2)\n",
    "print(\"Bob Public Key for Al-Gamal: \", Y_b2)"
   ]
  },
  {
   "cell_type": "markdown",
   "metadata": {},
   "source": [
    "3la taree2et el document ( Not solvable and doesn't verify correctly)"
   ]
  },
  {
   "cell_type": "code",
   "execution_count": 15,
   "metadata": {},
   "outputs": [],
   "source": [
    "def gcd(num1, num2):\n",
    "    assert num1 > num2, \"First Number should be greater\"\n",
    "    _, r = divmod(num1, num2)\n",
    "    return num2 if r == 0 else gcd(num2, r)\n",
    "\n",
    "def generate_random_k(prime):\n",
    "    k = np.random.randint(2,prime-2)\n",
    "    while gcd(prime-1,k) != 1 :\n",
    "        k = np.random.randint(2,prime-2)\n",
    "    return k\n",
    "\n",
    "def extended_euclidean(a,b):\n",
    "    if a == 0:\n",
    "        return b, 0, 1\n",
    "    else:\n",
    "        g, x, y = extended_euclidean(b % a, a)\n",
    "        return g, y - (b // a) * x, x\n",
    "    \n",
    "\n",
    "def send_signature_sha1(public_dh,private_gamal,generator,prime):\n",
    "    m = hashlib.sha1(str(public_dh).encode()).hexdigest()\n",
    "    # take last 8 bits \n",
    "    m = int(m[-1:],16)\n",
    "    assert 0 < m < prime , \"m doesn't satisfy the condition 0 < m < prime\"\n",
    "    # generate random K \n",
    "    \n",
    "    r,s = 0,0 # in the unlikely event of s = 0 , you will have to regenerate the k\n",
    "    while s == 0 :\n",
    "        k = generate_random_k(prime)    \n",
    "        r = pow(generator,k,prime)\n",
    "        s = (m - private_gamal*r) * extended_euclidean(k,prime-1)[1] % (prime-1)\n",
    "    print(f\"m: {m}, r: {r}, s: {s} , k: {k} \")\n",
    "    return r, s\n",
    "\n",
    "def verify_signature_sha1(public_dh,public_gamal,private_gamal,generator,prime,r,s):\n",
    "    assert 0 < r < prime , \"r not in permissible range\"\n",
    "    assert 0 < s < prime - 1 , \"s not in permissble range\"\n",
    "    # to verify then \n",
    "    # g**m = (public_dh**r * r**s) mod prime\n",
    "    m = hashlib.sha1(str(public_dh).encode()).hexdigest()\n",
    "    m = int(m[-1:],16)\n",
    "    left = pow(generator,m,prime)\n",
    "    print(f\"left : {left}\")\n",
    "    right = (pow(public_gamal,r) * pow(r,s)) % prime\n",
    "    print(f\"right = {right}\")\n",
    "    print(f\"m: {m}, r: {r}, s: {s} \")\n",
    "    if left == right:\n",
    "        key = hashlib.sha256(str(pow(public_dh,private_gamal,prime)).encode()).hexdigest()\n",
    "        return key.encode()\n",
    "    else:\n",
    "        print(\"Signature is not valid , Ending Connection ...\")\n",
    "        return None\n"
   ]
  },
  {
   "cell_type": "code",
   "execution_count": 16,
   "metadata": {},
   "outputs": [
    {
     "name": "stdout",
     "output_type": "stream",
     "text": [
      "m: 9, r: 325, s: 336 , k: 251 \n",
      "Signature:  325 336\n"
     ]
    }
   ],
   "source": [
    "# send signature sha1\n",
    "r , s= send_signature_sha1(Y_a,X_a2,a_gamal,q_gamal)\n",
    "print(\"Signature: \", r,s)\n",
    "\n"
   ]
  },
  {
   "cell_type": "code",
   "execution_count": 17,
   "metadata": {},
   "outputs": [
    {
     "name": "stdout",
     "output_type": "stream",
     "text": [
      "left : 268\n",
      "right = 268\n",
      "m: 9, r: 325, s: 336 \n"
     ]
    },
    {
     "data": {
      "text/plain": [
       "b'8df66f64b57424391d363fd6b811fed3c430c77597da265025728bd637bad804'"
      ]
     },
     "execution_count": 17,
     "metadata": {},
     "output_type": "execute_result"
    }
   ],
   "source": [
    "#verify signature sha1\n",
    "verify_signature_sha1(Y_a,Y_a2,a_gamal,q_gamal,r,s)"
   ]
  },
  {
   "cell_type": "code",
   "execution_count": null,
   "metadata": {},
   "outputs": [],
   "source": [
    "print(Y_a2,Y_b2)"
   ]
  },
  {
   "cell_type": "markdown",
   "metadata": {},
   "source": [
    "### My OWN SHA1"
   ]
  },
  {
   "cell_type": "code",
   "execution_count": null,
   "metadata": {},
   "outputs": [],
   "source": []
  },
  {
   "cell_type": "code",
   "execution_count": null,
   "metadata": {},
   "outputs": [],
   "source": []
  }
 ],
 "metadata": {
  "kernelspec": {
   "display_name": "Python 3",
   "language": "python",
   "name": "python3"
  },
  "language_info": {
   "codemirror_mode": {
    "name": "ipython",
    "version": 3
   },
   "file_extension": ".py",
   "mimetype": "text/x-python",
   "name": "python",
   "nbconvert_exporter": "python",
   "pygments_lexer": "ipython3",
   "version": "3.12.0"
  }
 },
 "nbformat": 4,
 "nbformat_minor": 2
}
