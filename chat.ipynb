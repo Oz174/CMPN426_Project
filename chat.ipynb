{
 "cells": [
  {
   "cell_type": "markdown",
   "metadata": {},
   "source": [
    "# This notebook is for testing purposes , It is not the final deliverable.\n",
    "## Contents:\n",
    "0. [Message Encoding with message blocks](#0)\n",
    "1. [Diffie-Hellman Key Exchange](#1)\n",
    "2. [AlGamal](#2)\n",
    "3. [Verifying Signature](#3)\n",
    "4. [Handling Messages with AES](#4)\n",
    "5. [Integration to chat.py](#5)"
   ]
  },
  {
   "cell_type": "markdown",
   "metadata": {},
   "source": [
    "0. [Message Encoding with message blocks](#0)"
   ]
  },
  {
   "cell_type": "markdown",
   "metadata": {},
   "source": [
    "### Import relevant libraries"
   ]
  },
  {
   "cell_type": "code",
   "execution_count": 1,
   "metadata": {},
   "outputs": [],
   "source": [
    "import base64\n",
    "\n",
    "from helpers.dh_gamal import deffie_hellman\n",
    "from helpers.tools import from_file\n",
    "import numpy as np\n",
    "import hashlib\n",
    "\n",
    "%reload_ext autoreload\n",
    "%autoreload 2"
   ]
  },
  {
   "cell_type": "markdown",
   "metadata": {},
   "source": [
    "### Message Encoding with message blocks"
   ]
  },
  {
   "cell_type": "markdown",
   "metadata": {},
   "source": [
    "The main reason to use Base64 is to be trasmit data over a channel that doesn't allow binary data transfer. That said, now it should be clear that you can have a stream encoded in Base64 that rapresent a stream UTF8 encoded.\n",
    "\n",
    "[What is the difference between utf-8 and base64](https://stackoverflow.com/questions/3866316/whats-the-difference-between-utf8-utf16-and-base64-in-terms-of-encoding#:~:text=But%20in%20languages%20where%20there's,to%20keep%20the%20concerns%20separate.&text=%2B1%20Base64%20is%20a%20way,ways%20to%20encode%20Unicode%20text.)"
   ]
  },
  {
   "cell_type": "markdown",
   "metadata": {},
   "source": [
    "#### Trying different encodings and decodings (Done)"
   ]
  },
  {
   "cell_type": "code",
   "execution_count": null,
   "metadata": {},
   "outputs": [],
   "source": [
    "message = \"hello world hello baba hello mama hello teta hello geddo\""
   ]
  },
  {
   "cell_type": "code",
   "execution_count": null,
   "metadata": {},
   "outputs": [],
   "source": [
    "print(\"Original Message: \" , message)\n",
    "\n",
    "print(\"#############################################################\")\n",
    "print(\"UTF-ENCDOING\")\n",
    "print(\"#############################################################\")\n",
    "print(\"Message with UTF-8 encoding: \",message.encode('utf-8'))\n",
    "print(\"Message with UTF-16 encoding: \",message.encode('utf-16'))\n",
    "print(\"Message with UTF-32 encoding: \",message.encode('utf-32'))\n",
    "\n",
    "\n",
    "print(\"#############################################################\")\n",
    "print(\"INT.FROM_BYTES little endian encoding\")\n",
    "print(\"#############################################################\")\n",
    "# testing int.from_bytes\n",
    "print(int.from_bytes(message.encode('utf-8'), 'little'))\n",
    "print(int.from_bytes(message.encode('utf-16'), 'little'))\n",
    "print(int.from_bytes(message.encode('utf-32'), 'little'))\n",
    "\n",
    "\n",
    "print(\"#############################################################\")\n",
    "print(\"Base64 Encoding\")\n",
    "print(\"#############################################################\")\n",
    "# encode with base64\n",
    "message_bytes = message.encode('utf-8')\n",
    "print(\"Message with base64 encoding: \", base64.b64encode(message_bytes))\n",
    "print(\"Message with a85 encoding: \", base64.a85encode(message_bytes))\n",
    "print(\"Message with b85 encoding: \", base64.b85encode(message_bytes))\n",
    "print(\"Message with b16 encoding: \", base64.b16encode(message_bytes))\n",
    "print(\"Message with b32 encoding: \", base64.b32encode(message_bytes))\n",
    "print(\"Message with b85 encoding: \", base64.b85encode(message_bytes))\n",
    "print(\"Message with b32hex encoding: \", base64.b32hexencode(message_bytes))\n",
    "print(\"Message with standard base64 encoding: \", base64.standard_b64encode(message_bytes))\n",
    "print(\"Message with urlsafe base64 encoding: \", base64.urlsafe_b64encode(message_bytes))\n",
    "\n",
    "print(\"#############################################################\")\n",
    "print(\"INT FROM_BYTES little endian encoding\")\n",
    "print(\"#############################################################\")\n",
    "# testing int.from_bytes\n",
    "print(int.from_bytes(base64.b64encode(message_bytes), 'little'))\n",
    "print(int.from_bytes(base64.a85encode(message_bytes), 'little'))\n",
    "print(int.from_bytes(base64.b85encode(message_bytes), 'little'))\n",
    "print(int.from_bytes(base64.b16encode(message_bytes), 'little'))\n",
    "print(int.from_bytes(base64.b32encode(message_bytes), 'little'))\n",
    "print(int.from_bytes(base64.b85encode(message_bytes), 'little'))\n",
    "print(int.from_bytes(base64.b32hexencode(message_bytes), 'little'))\n",
    "print(int.from_bytes(base64.standard_b64encode(message_bytes), 'little'))\n",
    "print(int.from_bytes(base64.urlsafe_b64encode(message_bytes), 'little'))\n",
    "\n",
    "print(message.encode('utf-8').decode('utf-8'))\n",
    "print(base64.b85decode(base64.b85encode(message.encode('utf-8'))).decode('utf-8'))"
   ]
  },
  {
   "cell_type": "markdown",
   "metadata": {},
   "source": [
    "### 1. [Diffie-Hellman Key Exchange](#1) (Done)"
   ]
  },
  {
   "cell_type": "code",
   "execution_count": 2,
   "metadata": {},
   "outputs": [],
   "source": [
    "q_dh , a_dh , q_gamal , a_gamal = from_file(\"agree.txt\")"
   ]
  },
  {
   "cell_type": "code",
   "execution_count": 3,
   "metadata": {},
   "outputs": [
    {
     "name": "stdout",
     "output_type": "stream",
     "text": [
      "Alice Private Key for DH:  104\n",
      "Bob Private Key for DH:  437\n",
      "Alice Public Key for DH:  385\n",
      "Bob Public Key for DH:  674\n"
     ]
    }
   ],
   "source": [
    "np.random.seed(42)\n",
    "\n",
    "X_a = np.random.randint(2, q_dh)\n",
    "print(\"Alice Private Key for DH: \", X_a)\n",
    "X_b = np.random.randint(2, q_dh)\n",
    "print(\"Bob Private Key for DH: \", X_b)\n",
    "Y_a = deffie_hellman(prime=q_dh, generator=a_dh, private_key=X_a)\n",
    "print(\"Alice Public Key for DH: \", Y_a)\n",
    "Y_b = deffie_hellman(prime=q_dh, generator=a_dh, private_key=X_b)\n",
    "print(\"Bob Public Key for DH: \", Y_b)\n",
    "\n"
   ]
  },
  {
   "cell_type": "code",
   "execution_count": 4,
   "metadata": {},
   "outputs": [
    {
     "name": "stdout",
     "output_type": "stream",
     "text": [
      "Alice Private Key for Al-Gamal:  16\n",
      "Bob Private Key for Al-Gamal:  12\n",
      "Alice Public Key for Al-Gamal:  5\n",
      "Bob Public Key for Al-Gamal:  11\n"
     ]
    }
   ],
   "source": [
    "X_a2 = np.random.randint(2,q_gamal)\n",
    "print(\"Alice Private Key for Al-Gamal: \", X_a2)\n",
    "X_b2 = np.random.randint(2, q_gamal)\n",
    "print(\"Bob Private Key for Al-Gamal: \", X_b2)\n",
    "Y_a2 = deffie_hellman(prime=q_gamal, generator=a_gamal, private_key=X_a2)\n",
    "print(\"Alice Public Key for Al-Gamal: \", Y_a2)\n",
    "Y_b2 = deffie_hellman(prime=q_gamal, generator=a_gamal, private_key=X_b2)\n",
    "print(\"Bob Public Key for Al-Gamal: \", Y_b2)"
   ]
  },
  {
   "cell_type": "code",
   "execution_count": 8,
   "metadata": {},
   "outputs": [],
   "source": [
    "def send_signature(public,generator,prime):\n",
    "    M = public\n",
    "    k = np.random.randint(2,prime)\n",
    "    K = pow(public,k,prime)\n",
    "    print(\"K: \", K)\n",
    "    C1 = pow(generator,k,prime)\n",
    "    C2 = (M*K) % prime\n",
    "    return C1,C2\n",
    "\n",
    "def verify_signature(public,private,prime,C1,C2):\n",
    "    K = pow(C1,private,prime)\n",
    "    print(\"K: \", K)\n",
    "    for j in range(1,prime):\n",
    "        if (K*j) % prime == 1:\n",
    "            break\n",
    "    print(\"M recovered \" , C2*j % prime)\n",
    "    return ((C2*j) % prime) == public\n",
    "    "
   ]
  },
  {
   "cell_type": "code",
   "execution_count": 9,
   "metadata": {},
   "outputs": [
    {
     "name": "stdout",
     "output_type": "stream",
     "text": [
      "K:  184\n",
      "Signature sent by Alice:  385 640 67\n",
      "K:  41\n",
      "M recovered  113\n",
      "Signature verified by Bob:  False\n"
     ]
    }
   ],
   "source": [
    "c1 , c2 = send_signature(Y_a,a_gamal,q_gamal)\n",
    "print(\"Signature sent by Bob: \", Y_a,c1,c2)\n",
    "print(\"Signature verified by Alice: \", verify_signature(Y_a,X_b,q_gamal,c1,c2))"
   ]
  },
  {
   "cell_type": "code",
   "execution_count": null,
   "metadata": {},
   "outputs": [],
   "source": [
    "# let M = Y_a \n",
    "M = Y_a\n",
    "print(M)\n",
    "# m = SHA1(M) [pick N lsb bits for 1< m <q_dh]\n",
    "m = int.from_bytes(hashlib.sha1(M.to_bytes(16, 'big')).digest(), 'big') % q_dh\n",
    "# choose some random K \n",
    "k = np.random.randint(2, q_dh)\n",
    "print(\"k \" , k)\n",
    "# K = Y_a^k mod q\n",
    "K = pow(Y_a, k, q_dh)\n",
    "print(\"K: \", K)\n",
    "# C1 = a^K mod q\n",
    "C1 = a_dh**k % q_dh\n",
    "# C2 = K * m mod q\n",
    "C2 = (K*M) % (q_dh)\n",
    "print(\"Signature: \", C1, C2)\n"
   ]
  },
  {
   "cell_type": "code",
   "execution_count": null,
   "metadata": {},
   "outputs": [],
   "source": [
    "# recovering Message \n",
    "K = pow(C1, X_a, q_dh)\n",
    "print(K)\n",
    "\n",
    "# time to find K-1\n",
    "for j in range(2,q_dh):\n",
    "    if (K*j) % q_dh == 1:\n",
    "        print(\"Found K-1: \", j)\n",
    "        break\n",
    "\n",
    "M_recovered = (C2 * j) % q_dh\n",
    "\n",
    "print(M_recovered)\n",
    "print(M_recovered == M)"
   ]
  },
  {
   "cell_type": "markdown",
   "metadata": {},
   "source": [
    "### 2. [AlGamal](#2) (Done)"
   ]
  },
  {
   "cell_type": "markdown",
   "metadata": {},
   "source": [
    "##### testing rsa on wide message"
   ]
  },
  {
   "cell_type": "code",
   "execution_count": null,
   "metadata": {},
   "outputs": [],
   "source": []
  },
  {
   "cell_type": "markdown",
   "metadata": {},
   "source": [
    "##### trying sha1"
   ]
  },
  {
   "cell_type": "code",
   "execution_count": null,
   "metadata": {},
   "outputs": [],
   "source": []
  },
  {
   "cell_type": "code",
   "execution_count": null,
   "metadata": {},
   "outputs": [],
   "source": []
  },
  {
   "cell_type": "markdown",
   "metadata": {},
   "source": [
    "### 3. [Verifying signature](#3)"
   ]
  },
  {
   "cell_type": "code",
   "execution_count": null,
   "metadata": {},
   "outputs": [],
   "source": []
  },
  {
   "cell_type": "code",
   "execution_count": null,
   "metadata": {},
   "outputs": [],
   "source": []
  },
  {
   "cell_type": "markdown",
   "metadata": {},
   "source": [
    "### 4. [Handling Messages](#4)"
   ]
  },
  {
   "cell_type": "code",
   "execution_count": null,
   "metadata": {},
   "outputs": [],
   "source": []
  },
  {
   "cell_type": "code",
   "execution_count": null,
   "metadata": {},
   "outputs": [],
   "source": []
  },
  {
   "cell_type": "markdown",
   "metadata": {},
   "source": [
    "### 5. [Integration to chat.py](#5)"
   ]
  },
  {
   "cell_type": "code",
   "execution_count": null,
   "metadata": {},
   "outputs": [],
   "source": []
  },
  {
   "cell_type": "code",
   "execution_count": null,
   "metadata": {},
   "outputs": [],
   "source": []
  },
  {
   "cell_type": "code",
   "execution_count": null,
   "metadata": {},
   "outputs": [],
   "source": []
  },
  {
   "cell_type": "code",
   "execution_count": null,
   "metadata": {},
   "outputs": [],
   "source": []
  },
  {
   "cell_type": "code",
   "execution_count": null,
   "metadata": {},
   "outputs": [],
   "source": []
  }
 ],
 "metadata": {
  "kernelspec": {
   "display_name": "Python 3",
   "language": "python",
   "name": "python3"
  },
  "language_info": {
   "codemirror_mode": {
    "name": "ipython",
    "version": 3
   },
   "file_extension": ".py",
   "mimetype": "text/x-python",
   "name": "python",
   "nbconvert_exporter": "python",
   "pygments_lexer": "ipython3",
   "version": "3.12.0"
  }
 },
 "nbformat": 4,
 "nbformat_minor": 2
}
