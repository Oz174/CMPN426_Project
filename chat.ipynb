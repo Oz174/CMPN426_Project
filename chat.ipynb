{
 "cells": [
  {
   "cell_type": "markdown",
   "metadata": {},
   "source": [
    "# This notebook is for testing purposes , It is not the final deliverable.\n",
    "## Contents:\n",
    "0. [Message Encoding with message blocks](#0)\n",
    "1. [Diffie-Hellman Key Exchange](#1)\n",
    "2. [AlGamal](#2)\n",
    "3. [Verifying Signature](#3)\n",
    "4. [Handling Messages with AES](#4)\n",
    "5. [Integration to chat.py](#5)"
   ]
  },
  {
   "cell_type": "markdown",
   "metadata": {},
   "source": [
    "0. [Message Encoding with message blocks](#0)"
   ]
  },
  {
   "cell_type": "markdown",
   "metadata": {},
   "source": [
    "### Import relevant libraries"
   ]
  },
  {
   "cell_type": "code",
   "execution_count": 16,
   "metadata": {},
   "outputs": [],
   "source": [
    "import base64\n",
    "\n",
    "from helpers.dh_gamal import deffie_hellman , secret_key_from_dh\n",
    "from helpers.tools import generate_prime , enforce_message_encoding\n",
    "from helpers.tools import from_file\n",
    "\n",
    "import hashlib\n",
    "\n",
    "%reload_ext autoreload\n",
    "%autoreload 2"
   ]
  },
  {
   "cell_type": "markdown",
   "metadata": {},
   "source": [
    "### Message Encoding with message blocks"
   ]
  },
  {
   "cell_type": "markdown",
   "metadata": {},
   "source": [
    "The main reason to use Base64 is to be trasmit data over a channel that doesn't allow binary data transfer. That said, now it should be clear that you can have a stream encoded in Base64 that rapresent a stream UTF8 encoded.\n",
    "\n",
    "[What is the difference between utf-8 and base64](https://stackoverflow.com/questions/3866316/whats-the-difference-between-utf8-utf16-and-base64-in-terms-of-encoding#:~:text=But%20in%20languages%20where%20there's,to%20keep%20the%20concerns%20separate.&text=%2B1%20Base64%20is%20a%20way,ways%20to%20encode%20Unicode%20text.)"
   ]
  },
  {
   "cell_type": "markdown",
   "metadata": {},
   "source": [
    "#### Trying different encodings and decodings (Done)"
   ]
  },
  {
   "cell_type": "code",
   "execution_count": null,
   "metadata": {},
   "outputs": [],
   "source": [
    "message = \"hello world hello baba hello mama hello teta hello geddo\""
   ]
  },
  {
   "cell_type": "code",
   "execution_count": null,
   "metadata": {},
   "outputs": [],
   "source": [
    "print(\"Original Message: \" , message)\n",
    "\n",
    "print(\"#############################################################\")\n",
    "print(\"UTF-ENCDOING\")\n",
    "print(\"#############################################################\")\n",
    "print(\"Message with UTF-8 encoding: \",message.encode('utf-8'))\n",
    "print(\"Message with UTF-16 encoding: \",message.encode('utf-16'))\n",
    "print(\"Message with UTF-32 encoding: \",message.encode('utf-32'))\n",
    "\n",
    "\n",
    "print(\"#############################################################\")\n",
    "print(\"INT.FROM_BYTES little endian encoding\")\n",
    "print(\"#############################################################\")\n",
    "# testing int.from_bytes\n",
    "print(int.from_bytes(message.encode('utf-8'), 'little'))\n",
    "print(int.from_bytes(message.encode('utf-16'), 'little'))\n",
    "print(int.from_bytes(message.encode('utf-32'), 'little'))\n",
    "\n",
    "\n",
    "print(\"#############################################################\")\n",
    "print(\"Base64 Encoding\")\n",
    "print(\"#############################################################\")\n",
    "# encode with base64\n",
    "message_bytes = message.encode('utf-8')\n",
    "print(\"Message with base64 encoding: \", base64.b64encode(message_bytes))\n",
    "print(\"Message with a85 encoding: \", base64.a85encode(message_bytes))\n",
    "print(\"Message with b85 encoding: \", base64.b85encode(message_bytes))\n",
    "print(\"Message with b16 encoding: \", base64.b16encode(message_bytes))\n",
    "print(\"Message with b32 encoding: \", base64.b32encode(message_bytes))\n",
    "print(\"Message with b85 encoding: \", base64.b85encode(message_bytes))\n",
    "print(\"Message with b32hex encoding: \", base64.b32hexencode(message_bytes))\n",
    "print(\"Message with standard base64 encoding: \", base64.standard_b64encode(message_bytes))\n",
    "print(\"Message with urlsafe base64 encoding: \", base64.urlsafe_b64encode(message_bytes))\n",
    "\n",
    "print(\"#############################################################\")\n",
    "print(\"INT FROM_BYTES little endian encoding\")\n",
    "print(\"#############################################################\")\n",
    "# testing int.from_bytes\n",
    "print(int.from_bytes(base64.b64encode(message_bytes), 'little'))\n",
    "print(int.from_bytes(base64.a85encode(message_bytes), 'little'))\n",
    "print(int.from_bytes(base64.b85encode(message_bytes), 'little'))\n",
    "print(int.from_bytes(base64.b16encode(message_bytes), 'little'))\n",
    "print(int.from_bytes(base64.b32encode(message_bytes), 'little'))\n",
    "print(int.from_bytes(base64.b85encode(message_bytes), 'little'))\n",
    "print(int.from_bytes(base64.b32hexencode(message_bytes), 'little'))\n",
    "print(int.from_bytes(base64.standard_b64encode(message_bytes), 'little'))\n",
    "print(int.from_bytes(base64.urlsafe_b64encode(message_bytes), 'little'))\n",
    "\n",
    "print(message.encode('utf-8').decode('utf-8'))\n",
    "print(base64.b85decode(base64.b85encode(message.encode('utf-8'))).decode('utf-8'))"
   ]
  },
  {
   "cell_type": "markdown",
   "metadata": {},
   "source": [
    "### 1. [Diffie-Hellman Key Exchange](#1) (Done)"
   ]
  },
  {
   "cell_type": "code",
   "execution_count": 13,
   "metadata": {},
   "outputs": [
    {
     "name": "stdout",
     "output_type": "stream",
     "text": [
      "Alice Private Key:  5\n",
      "Bob Private Key:  211\n",
      "Alice Public Key:  91\n",
      "Bob Public Key:  20\n",
      "Alice Secret Key and Bob Secret Key:  202 202\n"
     ]
    }
   ],
   "source": [
    "q_dh , a_dh , _ , _ = from_file('agree.txt')\n",
    "X_a = generate_prime(2,q_dh,1)\n",
    "print(\"Alice Private Key: \", X_a)\n",
    "X_b = generate_prime(2, q_dh,1)\n",
    "print(\"Bob Private Key: \", X_b)\n",
    "Y_a = deffie_hellman(prime=q_dh, generator=a_dh, private_key=X_a)\n",
    "print(\"Alice Public Key: \", Y_a)\n",
    "Y_b = deffie_hellman(prime=q_dh, generator=a_dh, private_key=X_b)\n",
    "print(\"Bob Public Key: \", Y_b)\n",
    "Ka = secret_key_from_dh(prime=q_dh, public_key=Y_b, private_key=X_a)\n",
    "Kb = secret_key_from_dh(prime=q_dh, public_key=Y_a, private_key=X_b)\n",
    "print(\"Alice Secret Key and Bob Secret Key: \", Ka, Kb)\n",
    "\n"
   ]
  },
  {
   "cell_type": "markdown",
   "metadata": {},
   "source": [
    "### 2. [AlGamal](#2) (Done)"
   ]
  },
  {
   "cell_type": "markdown",
   "metadata": {},
   "source": [
    "##### testing rsa on wide message"
   ]
  },
  {
   "cell_type": "code",
   "execution_count": 15,
   "metadata": {},
   "outputs": [
    {
     "name": "stdout",
     "output_type": "stream",
     "text": [
      "[97, 110, 97, 32, 115, 97, 109, 121, 97, 32, 51, 97, 108, 108, 111, 117, 98, 97]\n",
      "[1504, 1438, 1504, 125, 1664, 1504, 2054, 1812, 1504, 125, 3087, 1504, 643, 643, 1404, 2669, 2392, 1504]\n",
      "[97, 110, 97, 32, 115, 97, 109, 121, 97, 32, 51, 97, 108, 108, 111, 117, 98, 97]\n",
      "ana samya 3allouba\n"
     ]
    }
   ],
   "source": [
    "e = 7 \n",
    "d = 1363 \n",
    "n = 107*31\n",
    "\n",
    "m = enforce_message_encoding(\"ana samya 3allouba\",n)\n",
    "print(m)\n",
    "x= [msg**e % n for msg in m]\n",
    "print(x)\n",
    "y = [msg**d % n for msg in x]\n",
    "print(y)\n",
    "\n",
    "# decode message back to string\n",
    "decoded_message = \"\".join([chr(msg) for msg in y])\n",
    "print(decoded_message)"
   ]
  },
  {
   "cell_type": "markdown",
   "metadata": {},
   "source": [
    "##### trying sha1"
   ]
  },
  {
   "cell_type": "code",
   "execution_count": 19,
   "metadata": {},
   "outputs": [
    {
     "data": {
      "text/plain": [
       "'2aae6c35c94fcfb415dbe95f408b9ce91ee846ed'"
      ]
     },
     "execution_count": 19,
     "metadata": {},
     "output_type": "execute_result"
    }
   ],
   "source": [
    "message = \"hello world\"\n",
    "hashlib.sha1(message.encode('utf-8')).hexdigest()"
   ]
  },
  {
   "cell_type": "code",
   "execution_count": null,
   "metadata": {},
   "outputs": [],
   "source": []
  },
  {
   "cell_type": "markdown",
   "metadata": {},
   "source": [
    "### 3. [Verifying signature](#3)"
   ]
  },
  {
   "cell_type": "code",
   "execution_count": null,
   "metadata": {},
   "outputs": [],
   "source": []
  },
  {
   "cell_type": "code",
   "execution_count": null,
   "metadata": {},
   "outputs": [],
   "source": []
  },
  {
   "cell_type": "markdown",
   "metadata": {},
   "source": [
    "### 4. [Handling Messages](#4)"
   ]
  },
  {
   "cell_type": "code",
   "execution_count": null,
   "metadata": {},
   "outputs": [],
   "source": []
  },
  {
   "cell_type": "code",
   "execution_count": null,
   "metadata": {},
   "outputs": [],
   "source": []
  },
  {
   "cell_type": "markdown",
   "metadata": {},
   "source": [
    "### 5. [Integration to chat.py](#5)"
   ]
  },
  {
   "cell_type": "code",
   "execution_count": null,
   "metadata": {},
   "outputs": [],
   "source": []
  },
  {
   "cell_type": "code",
   "execution_count": null,
   "metadata": {},
   "outputs": [],
   "source": []
  },
  {
   "cell_type": "code",
   "execution_count": null,
   "metadata": {},
   "outputs": [],
   "source": []
  },
  {
   "cell_type": "code",
   "execution_count": null,
   "metadata": {},
   "outputs": [],
   "source": []
  },
  {
   "cell_type": "code",
   "execution_count": null,
   "metadata": {},
   "outputs": [],
   "source": []
  }
 ],
 "metadata": {
  "kernelspec": {
   "display_name": "Python 3",
   "language": "python",
   "name": "python3"
  },
  "language_info": {
   "codemirror_mode": {
    "name": "ipython",
    "version": 3
   },
   "file_extension": ".py",
   "mimetype": "text/x-python",
   "name": "python",
   "nbconvert_exporter": "python",
   "pygments_lexer": "ipython3",
   "version": "3.12.0"
  }
 },
 "nbformat": 4,
 "nbformat_minor": 2
}
