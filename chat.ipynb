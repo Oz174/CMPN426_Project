{
 "cells": [
  {
   "cell_type": "markdown",
   "metadata": {},
   "source": [
    "# This notebook is for testing purposes , It is not the final deliverable.\n",
    "## Contents:\n",
    "1. [Diffie-Hellman Key Exchange](#1)\n",
    "2. [AlGamal](#2)\n",
    "3. [Verifying Signature](#3)\n",
    "4. [Handling Messages with AES](#4)\n",
    "5. [Integration to chat.py](#5)"
   ]
  },
  {
   "cell_type": "markdown",
   "metadata": {},
   "source": [
    "### Import relevant libraries"
   ]
  },
  {
   "cell_type": "code",
   "execution_count": 90,
   "metadata": {},
   "outputs": [],
   "source": [
    "from helpers.dh_gamal import deffie_hellman\n",
    "from helpers.tools import from_file\n",
    "import numpy as np\n",
    "import hashlib\n",
    "\n",
    "%reload_ext autoreload\n",
    "%autoreload 2"
   ]
  },
  {
   "cell_type": "markdown",
   "metadata": {},
   "source": [
    "### 1. [Diffie-Hellman Key Exchange](#1) (Done)"
   ]
  },
  {
   "cell_type": "code",
   "execution_count": 91,
   "metadata": {},
   "outputs": [],
   "source": [
    "q_dh , a_dh , q_gamal , a_gamal = from_file(\"agree.txt\")"
   ]
  },
  {
   "cell_type": "code",
   "execution_count": 92,
   "metadata": {},
   "outputs": [
    {
     "name": "stdout",
     "output_type": "stream",
     "text": [
      "Alice Private Key for DH:  33\n",
      "Bob Private Key for DH:  315\n",
      "Alice Public Key for DH:  67\n",
      "Bob Public Key for DH:  115\n"
     ]
    }
   ],
   "source": [
    "X_a = np.random.randint(2, q_dh)\n",
    "print(\"Alice Private Key for DH: \", X_a)\n",
    "X_b = np.random.randint(2, q_dh)\n",
    "print(\"Bob Private Key for DH: \", X_b)\n",
    "Y_a = deffie_hellman(prime=q_dh, generator=a_dh, private_key=X_a)\n",
    "print(\"Alice Public Key for DH: \", Y_a)\n",
    "Y_b = deffie_hellman(prime=q_dh, generator=a_dh, private_key=X_b)\n",
    "print(\"Bob Public Key for DH: \", Y_b)\n",
    "\n"
   ]
  },
  {
   "cell_type": "code",
   "execution_count": 93,
   "metadata": {},
   "outputs": [
    {
     "name": "stdout",
     "output_type": "stream",
     "text": [
      "Alice Private Key for Al-Gamal:  294\n",
      "Bob Private Key for Al-Gamal:  285\n",
      "Alice Public Key for Al-Gamal:  65\n",
      "Bob Public Key for Al-Gamal:  20\n"
     ]
    }
   ],
   "source": [
    "X_a2 = np.random.randint(2,q_gamal)\n",
    "print(\"Alice Private Key for Al-Gamal: \", X_a2)\n",
    "X_b2 = np.random.randint(2, q_gamal)\n",
    "print(\"Bob Private Key for Al-Gamal: \", X_b2)\n",
    "Y_a2 = deffie_hellman(prime=q_gamal, generator=a_gamal, private_key=X_a2)\n",
    "print(\"Alice Public Key for Al-Gamal: \", Y_a2)\n",
    "Y_b2 = deffie_hellman(prime=q_gamal, generator=a_gamal, private_key=X_b2)\n",
    "print(\"Bob Public Key for Al-Gamal: \", Y_b2)"
   ]
  },
  {
   "cell_type": "markdown",
   "metadata": {},
   "source": [
    "3la taree2et el document ( Not solvable and doesn't verify correctly)"
   ]
  },
  {
   "cell_type": "code",
   "execution_count": 94,
   "metadata": {},
   "outputs": [],
   "source": [
    "def gcd(num1, num2):\n",
    "    assert num1 > num2, \"First Number should be greater\"\n",
    "    _, r = divmod(num1, num2)\n",
    "    return num2 if r == 0 else gcd(num2, r)\n",
    "\n",
    "def generate_random_k(prime):\n",
    "    k = np.random.randint(2,prime-2)\n",
    "    while gcd(prime-1,k) != 1 :\n",
    "        k = np.random.randint(2,prime-2)\n",
    "    return k\n",
    "\n",
    "def extended_euclidean(a,b):\n",
    "    if a == 0:\n",
    "        return b, 0, 1\n",
    "    else:\n",
    "        g, x, y = extended_euclidean(b % a, a)\n",
    "        return g, y - (b // a) * x, x\n",
    "    \n",
    "\n",
    "def send_signature_sha1(public_dh,private_gamal,generator,prime):\n",
    "    m = hashlib.sha1(str(public_dh).encode()).hexdigest()\n",
    "    # take last 8 bits \n",
    "    m = int(m[-1:],16)\n",
    "    assert 0 < m < prime , \"m doesn't satisfy the condition 0 < m < prime\"\n",
    "    # generate random K \n",
    "    \n",
    "    r,s = 0,0 # in the unlikely event of s = 0 , you will have to regenerate the k\n",
    "    while s == 0 :\n",
    "        k = generate_random_k(prime)    \n",
    "        r = pow(generator,k,prime)\n",
    "        s = (m - private_gamal*r) * extended_euclidean(k,prime-1)[1] % (prime-1)\n",
    "    print(f\"m: {m}, r: {r}, s: {s} , k: {k} \")\n",
    "    return r, s\n",
    "\n",
    "def verify_signature_sha1(public_dh,public_gamal,generator,prime,r,s):\n",
    "    assert 0 < r < prime , \"r not in permissible range\"\n",
    "    assert 0 < s < prime - 1 , \"s not in permissble range\"\n",
    "    # to verify then \n",
    "    # g**m = (public_dh**r * r**s) mod prime\n",
    "    m = hashlib.sha1(str(public_dh).encode()).hexdigest()\n",
    "    m = int(m[-1:],16)\n",
    "    left = pow(generator,m,prime)\n",
    "    print(f\"left : {left}\")\n",
    "    right = (pow(public_gamal,r) * pow(r,s)) % prime\n",
    "    print(f\"right = {right}\")\n",
    "    print(f\"m: {m}, r: {r}, s: {s} \")\n",
    "    return left == right\n",
    "    \n",
    "    "
   ]
  },
  {
   "cell_type": "code",
   "execution_count": 95,
   "metadata": {},
   "outputs": [
    {
     "name": "stdout",
     "output_type": "stream",
     "text": [
      "m: 2, r: 279, s: 200 , k: 95 \n",
      "Signature:  279 200\n"
     ]
    }
   ],
   "source": [
    "# send signature sha1\n",
    "r , s= send_signature_sha1(Y_a,X_a2,a_gamal,q_gamal)\n",
    "print(\"Signature: \", r,s)\n",
    "\n"
   ]
  },
  {
   "cell_type": "code",
   "execution_count": 96,
   "metadata": {},
   "outputs": [
    {
     "name": "stdout",
     "output_type": "stream",
     "text": [
      "left : 9\n",
      "right = 9\n",
      "m: 2, r: 279, s: 200 \n"
     ]
    },
    {
     "data": {
      "text/plain": [
       "True"
      ]
     },
     "execution_count": 96,
     "metadata": {},
     "output_type": "execute_result"
    }
   ],
   "source": [
    "#verify signature sha1\n",
    "verify_signature_sha1(Y_a,Y_a2,a_gamal,q_gamal,r,s)"
   ]
  },
  {
   "cell_type": "code",
   "execution_count": 73,
   "metadata": {},
   "outputs": [
    {
     "name": "stdout",
     "output_type": "stream",
     "text": [
      "270 185\n"
     ]
    }
   ],
   "source": [
    "print(Y_a2,Y_b2)"
   ]
  },
  {
   "cell_type": "markdown",
   "metadata": {},
   "source": [
    "### My OWN SHA1"
   ]
  },
  {
   "cell_type": "code",
   "execution_count": 14,
   "metadata": {},
   "outputs": [],
   "source": [
    "def send_signature_sha2(public_dh,public_gamal,generator,prime):\n",
    "    if public_dh >= prime:\n",
    "        return None\n",
    "    # generate random K \n",
    "    k = np.random.randint(2,prime-1)\n",
    "    # calculate K \n",
    "    public_dh = hashlib.sha1(str(public_dh).encode()).hexdigest()\n",
    "    public_dh = int(public_dh[-2:],16)\n",
    "    key = pow(public_gamal,k,prime)\n",
    "    print(\"Key: \", key)\n",
    "    c1 = pow(generator,k,prime)\n",
    "    c2 = (key*public_dh) % prime\n",
    "    return c1,c2\n",
    "    \n",
    "\n",
    "def verify_signature_sha2(public_dh,private_gamal,prime,C1,C2):\n",
    "    public_dh = hashlib.sha1(str(public_dh).encode()).hexdigest()\n",
    "    public_dh = int(public_dh[-2:] , 16)\n",
    "    key = pow(C1,private_gamal,prime)\n",
    "    #print el key \n",
    "    if public_dh == (C2 * extended_euclidean(key,prime)[1]) % prime:\n",
    "        return True\n",
    "    return False"
   ]
  },
  {
   "cell_type": "code",
   "execution_count": 15,
   "metadata": {},
   "outputs": [
    {
     "name": "stdout",
     "output_type": "stream",
     "text": [
      "Key:  711\n"
     ]
    },
    {
     "data": {
      "text/plain": [
       "True"
      ]
     },
     "execution_count": 15,
     "metadata": {},
     "output_type": "execute_result"
    }
   ],
   "source": [
    "r,s = send_signature_sha2(Y_a,Y_a2,a_gamal,q_gamal)\n",
    "\n",
    "verify_signature_sha2(Y_a,X_a2,q_gamal,r,s)"
   ]
  },
  {
   "cell_type": "code",
   "execution_count": null,
   "metadata": {},
   "outputs": [],
   "source": []
  },
  {
   "cell_type": "code",
   "execution_count": null,
   "metadata": {},
   "outputs": [],
   "source": []
  },
  {
   "cell_type": "markdown",
   "metadata": {},
   "source": [
    "### 3. [Verifying signature](#3)"
   ]
  },
  {
   "cell_type": "code",
   "execution_count": null,
   "metadata": {},
   "outputs": [],
   "source": []
  },
  {
   "cell_type": "code",
   "execution_count": null,
   "metadata": {},
   "outputs": [],
   "source": []
  },
  {
   "cell_type": "markdown",
   "metadata": {},
   "source": [
    "### 4. [Handling Messages](#4)"
   ]
  },
  {
   "cell_type": "code",
   "execution_count": null,
   "metadata": {},
   "outputs": [],
   "source": []
  },
  {
   "cell_type": "code",
   "execution_count": null,
   "metadata": {},
   "outputs": [],
   "source": []
  },
  {
   "cell_type": "markdown",
   "metadata": {},
   "source": [
    "### 5. [Integration to chat.py](#5)"
   ]
  },
  {
   "cell_type": "code",
   "execution_count": null,
   "metadata": {},
   "outputs": [],
   "source": []
  },
  {
   "cell_type": "code",
   "execution_count": null,
   "metadata": {},
   "outputs": [],
   "source": []
  },
  {
   "cell_type": "code",
   "execution_count": null,
   "metadata": {},
   "outputs": [],
   "source": []
  },
  {
   "cell_type": "code",
   "execution_count": null,
   "metadata": {},
   "outputs": [],
   "source": []
  },
  {
   "cell_type": "code",
   "execution_count": null,
   "metadata": {},
   "outputs": [],
   "source": []
  }
 ],
 "metadata": {
  "kernelspec": {
   "display_name": "Python 3",
   "language": "python",
   "name": "python3"
  },
  "language_info": {
   "codemirror_mode": {
    "name": "ipython",
    "version": 3
   },
   "file_extension": ".py",
   "mimetype": "text/x-python",
   "name": "python",
   "nbconvert_exporter": "python",
   "pygments_lexer": "ipython3",
   "version": "3.12.0"
  }
 },
 "nbformat": 4,
 "nbformat_minor": 2
}
