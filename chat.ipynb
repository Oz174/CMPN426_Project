{
 "cells": [
  {
   "cell_type": "markdown",
   "metadata": {},
   "source": [
    "# This notebook is for testing purposes , It is not the final deliverable.\n",
    "## Contents:\n",
    "0. [Message Encoding with message blocks](#0)\n",
    "1. [Diffie-Hellman Key Exchange](#1)\n",
    "2. [AlGamal](#2)\n",
    "3. [Verifying Signature](#3)\n",
    "4. [Handling Messages with AES](#4)\n",
    "5. [Integration to chat.py](#5)"
   ]
  },
  {
   "cell_type": "markdown",
   "metadata": {},
   "source": [
    "0. [Message Encoding with message blocks](#0)"
   ]
  },
  {
   "cell_type": "markdown",
   "metadata": {},
   "source": [
    "### Import relevant libraries"
   ]
  },
  {
   "cell_type": "code",
   "execution_count": 2,
   "metadata": {},
   "outputs": [],
   "source": [
    "from helpers.dh_gamal import deffie_hellman\n",
    "from helpers.tools import from_file\n",
    "import numpy as np\n",
    "import hashlib\n",
    "\n",
    "%reload_ext autoreload\n",
    "%autoreload 2"
   ]
  },
  {
   "cell_type": "markdown",
   "metadata": {},
   "source": [
    "### 1. [Diffie-Hellman Key Exchange](#1) (Done)"
   ]
  },
  {
   "cell_type": "code",
   "execution_count": 3,
   "metadata": {},
   "outputs": [],
   "source": [
    "q_dh , a_dh , q_gamal , a_gamal = from_file(\"agree.txt\")"
   ]
  },
  {
   "cell_type": "code",
   "execution_count": 4,
   "metadata": {},
   "outputs": [
    {
     "name": "stdout",
     "output_type": "stream",
     "text": [
      "Alice Private Key for DH:  14\n",
      "Bob Private Key for DH:  17\n",
      "Alice Public Key for DH:  6\n",
      "Bob Public Key for DH:  10\n"
     ]
    }
   ],
   "source": [
    "np.random.seed(0)\n",
    "\n",
    "X_a = np.random.randint(2, q_dh)\n",
    "print(\"Alice Private Key for DH: \", X_a)\n",
    "X_b = np.random.randint(2, q_dh)\n",
    "print(\"Bob Private Key for DH: \", X_b)\n",
    "Y_a = deffie_hellman(prime=q_dh, generator=a_dh, private_key=X_a)\n",
    "print(\"Alice Public Key for DH: \", Y_a)\n",
    "Y_b = deffie_hellman(prime=q_dh, generator=a_dh, private_key=X_b)\n",
    "print(\"Bob Public Key for DH: \", Y_b)\n",
    "\n"
   ]
  },
  {
   "cell_type": "code",
   "execution_count": 5,
   "metadata": {},
   "outputs": [
    {
     "name": "stdout",
     "output_type": "stream",
     "text": [
      "Alice Private Key for Al-Gamal:  686\n",
      "Bob Private Key for Al-Gamal:  561\n",
      "Alice Public Key for Al-Gamal:  489\n",
      "Bob Public Key for Al-Gamal:  731\n"
     ]
    }
   ],
   "source": [
    "np.random.seed(0)\n",
    "X_a2 = np.random.randint(2,q_gamal)\n",
    "print(\"Alice Private Key for Al-Gamal: \", X_a2)\n",
    "X_b2 = np.random.randint(2, q_gamal)\n",
    "print(\"Bob Private Key for Al-Gamal: \", X_b2)\n",
    "Y_a2 = deffie_hellman(prime=q_gamal, generator=a_gamal, private_key=X_a2)\n",
    "print(\"Alice Public Key for Al-Gamal: \", Y_a2)\n",
    "Y_b2 = deffie_hellman(prime=q_gamal, generator=a_gamal, private_key=X_b2)\n",
    "print(\"Bob Public Key for Al-Gamal: \", Y_b2)"
   ]
  },
  {
   "cell_type": "markdown",
   "metadata": {},
   "source": [
    "### Al-Gamal without SHA1"
   ]
  },
  {
   "cell_type": "code",
   "execution_count": 6,
   "metadata": {},
   "outputs": [],
   "source": [
    "def extended_euclidean(a,b):\n",
    "    if a == 0:\n",
    "        return b, 0, 1\n",
    "    else:\n",
    "        g, x, y = extended_euclidean(b % a, a)\n",
    "        return g, y - (b // a) * x, x\n",
    "    \n",
    "\n",
    "def send_signature(public_dh,public_gamal,generator,prime):\n",
    "    if public_dh >= prime:\n",
    "        return None\n",
    "    # generate random K \n",
    "    k = np.random.randint(2,prime-1)\n",
    "    # calculate K \n",
    "    key = pow(public_gamal,k,prime)\n",
    "    print(\"Key: \", key)\n",
    "    c1 = pow(generator,k,prime)\n",
    "    c2 = (key*public_dh) % prime\n",
    "    return c1,c2\n",
    "    \n",
    "\n",
    "def verify_signature(public_dh,private_gamal,prime,C1,C2):\n",
    "    key = pow(C1,private_gamal,prime)\n",
    "    #print el key \n",
    "    print(\"Key: \", key)\n",
    "    print(extended_euclidean(key,prime))\n",
    "    if public_dh == (C2 * extended_euclidean(key,prime)[1]) % prime:\n",
    "        return True\n",
    "    return False\n",
    "    "
   ]
  },
  {
   "cell_type": "markdown",
   "metadata": {},
   "source": [
    "#### B using the public key of A"
   ]
  },
  {
   "cell_type": "code",
   "execution_count": 11,
   "metadata": {},
   "outputs": [
    {
     "name": "stdout",
     "output_type": "stream",
     "text": [
      "Key:  711\n",
      "Signature:  199 261\n",
      "Key:  711\n",
      "(1, -137, 128)\n"
     ]
    },
    {
     "data": {
      "text/plain": [
       "True"
      ]
     },
     "execution_count": 11,
     "metadata": {},
     "output_type": "execute_result"
    }
   ],
   "source": [
    "r,s = send_signature(Y_b,Y_a2,a_gamal,q_gamal)\n",
    "# B will do the following : \n",
    "# will use Y_A2 as public key and the message as Y_A then generates c1 and c2\n",
    "# then will send the signature to A\n",
    "print(\"Signature: \", r,s)\n",
    "# A will verify the signature by using the public key of B and the private key of A\n",
    "# and the signature sent by B\n",
    "\n",
    "verify_signature(Y_b,X_a2,q_gamal,r,s)"
   ]
  },
  {
   "cell_type": "markdown",
   "metadata": {},
   "source": [
    "#### A using the public key of B"
   ]
  },
  {
   "cell_type": "code",
   "execution_count": 7,
   "metadata": {},
   "outputs": [
    {
     "name": "stdout",
     "output_type": "stream",
     "text": [
      "Key:  129\n",
      "Signature:  318 529\n",
      "Key:  129\n",
      "(1, 59, -10)\n"
     ]
    },
    {
     "data": {
      "text/plain": [
       "True"
      ]
     },
     "execution_count": 7,
     "metadata": {},
     "output_type": "execute_result"
    }
   ],
   "source": [
    "r,s = send_signature(Y_b,Y_b2,a_gamal,q_gamal)\n",
    "# B will do the following : \n",
    "# will use Y_A2 as public key and the message as Y_A then generates c1 and c2\n",
    "# then will send the signature to A\n",
    "print(\"Signature: \", r,s)\n",
    "# A will verify the signature by using the public key of B and the private key of A\n",
    "# and the signature sent by B\n",
    "\n",
    "verify_signature(Y_b,X_b2,q_gamal,r,s)"
   ]
  },
  {
   "cell_type": "markdown",
   "metadata": {},
   "source": [
    "#### false signature "
   ]
  },
  {
   "cell_type": "code",
   "execution_count": 8,
   "metadata": {},
   "outputs": [
    {
     "name": "stdout",
     "output_type": "stream",
     "text": [
      "Key:  228\n",
      "Signature:  615 758\n",
      "Key:  228\n",
      "(1, -257, 77)\n"
     ]
    },
    {
     "data": {
      "text/plain": [
       "False"
      ]
     },
     "execution_count": 8,
     "metadata": {},
     "output_type": "execute_result"
    }
   ],
   "source": [
    "r,s = send_signature(Y_b,Y_b2,a_gamal,q_gamal)\n",
    "# B will do the following : \n",
    "# will use Y_A2 as public key and the message as Y_A then generates c1 and c2\n",
    "# then will send the signature to A\n",
    "print(\"Signature: \", r,s)\n",
    "# A will verify the signature by using the public key of B and the private key of A\n",
    "# and the signature sent by B\n",
    "\n",
    "verify_signature(np.random.randint(200),X_b2,q_gamal,r,s)"
   ]
  },
  {
   "cell_type": "markdown",
   "metadata": {},
   "source": [
    "##### trying sha1"
   ]
  },
  {
   "cell_type": "code",
   "execution_count": 12,
   "metadata": {},
   "outputs": [
    {
     "name": "stdout",
     "output_type": "stream",
     "text": [
      "K:  21\n",
      "639 470\n"
     ]
    }
   ],
   "source": [
    "M = Y_a\n",
    "m = int.from_bytes(hashlib.sha1(M.to_bytes(8)).digest())\n",
    "m >> 154\n",
    "# choose K \n",
    "K = np.random.randint(100)\n",
    "print(\"K: \", K)\n",
    "s1 = (a_gamal**K) % q_gamal\n",
    "K_inv = extended_euclidean(K,q_gamal)[1]\n",
    "s2 = (K_inv * (m - X_a2 * s1)) % (q_gamal-1)\n",
    "\n",
    "print(s1,s2)"
   ]
  },
  {
   "cell_type": "code",
   "execution_count": 15,
   "metadata": {},
   "outputs": [
    {
     "name": "stdout",
     "output_type": "stream",
     "text": [
      "2\n",
      "(1, -380, 1)\n"
     ]
    }
   ],
   "source": [
    "#verifying\n",
    "m = int.from_bytes(hashlib.sha1(M.to_bytes(8)).digest())\n",
    "m >> 154\n",
    "\n",
    "# get key from s1 \n",
    "key = pow(s1,X_a2,q_gamal)\n",
    "print(key)\n",
    "print(extended_euclidean(key,q_gamal))\n",
    "if pow(a_gamal,m,q_gamal) == pow(Y_a2,s1,q_gamal) * pow(s1,s2,q_gamal):\n",
    "    print(\"Verified\")\n"
   ]
  },
  {
   "cell_type": "markdown",
   "metadata": {},
   "source": [
    "### 3. [Verifying signature](#3)"
   ]
  },
  {
   "cell_type": "code",
   "execution_count": null,
   "metadata": {},
   "outputs": [],
   "source": []
  },
  {
   "cell_type": "code",
   "execution_count": null,
   "metadata": {},
   "outputs": [],
   "source": []
  },
  {
   "cell_type": "markdown",
   "metadata": {},
   "source": [
    "### 4. [Handling Messages](#4)"
   ]
  },
  {
   "cell_type": "code",
   "execution_count": null,
   "metadata": {},
   "outputs": [],
   "source": []
  },
  {
   "cell_type": "code",
   "execution_count": null,
   "metadata": {},
   "outputs": [],
   "source": []
  },
  {
   "cell_type": "markdown",
   "metadata": {},
   "source": [
    "### 5. [Integration to chat.py](#5)"
   ]
  },
  {
   "cell_type": "code",
   "execution_count": null,
   "metadata": {},
   "outputs": [],
   "source": []
  },
  {
   "cell_type": "code",
   "execution_count": null,
   "metadata": {},
   "outputs": [],
   "source": []
  },
  {
   "cell_type": "code",
   "execution_count": null,
   "metadata": {},
   "outputs": [],
   "source": []
  },
  {
   "cell_type": "code",
   "execution_count": null,
   "metadata": {},
   "outputs": [],
   "source": []
  },
  {
   "cell_type": "code",
   "execution_count": null,
   "metadata": {},
   "outputs": [],
   "source": []
  }
 ],
 "metadata": {
  "kernelspec": {
   "display_name": "Python 3",
   "language": "python",
   "name": "python3"
  },
  "language_info": {
   "codemirror_mode": {
    "name": "ipython",
    "version": 3
   },
   "file_extension": ".py",
   "mimetype": "text/x-python",
   "name": "python",
   "nbconvert_exporter": "python",
   "pygments_lexer": "ipython3",
   "version": "3.12.0"
  }
 },
 "nbformat": 4,
 "nbformat_minor": 2
}
