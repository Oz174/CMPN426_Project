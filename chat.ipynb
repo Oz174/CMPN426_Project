{
 "cells": [
  {
   "cell_type": "markdown",
   "metadata": {},
   "source": [
    "# This notebook is for testing purposes , It is not the final deliverable.\n",
    "## Contents:\n",
    "0. [Message Encoding with message blocks](#0)\n",
    "1. [Diffie-Hellman Key Exchange](#1)\n",
    "2. [AlGamal](#2)\n",
    "3. [Initilization](#3)\n",
    "4. [Handling Messages](#4)\n",
    "5. [Integration to chat.py](#5)"
   ]
  },
  {
   "cell_type": "markdown",
   "metadata": {},
   "source": [
    "0. [Message Encoding with message blocks](#0)"
   ]
  },
  {
   "cell_type": "markdown",
   "metadata": {},
   "source": [
    "### Import relevant libraries"
   ]
  },
  {
   "cell_type": "code",
   "execution_count": 10,
   "metadata": {},
   "outputs": [],
   "source": [
    "import base64\n",
    "\n",
    "from helpers.dh_gamal import deffie_hellman , secret_key_from_dh\n",
    "from helpers.tools import generate_prime\n",
    "from helpers.tools import from_file, generate_params_file\n",
    "\n",
    "%reload_ext autoreload\n",
    "%autoreload 2"
   ]
  },
  {
   "cell_type": "markdown",
   "metadata": {},
   "source": [
    "### Message Encoding with message blocks"
   ]
  },
  {
   "cell_type": "markdown",
   "metadata": {},
   "source": [
    "The main reason to use Base64 is to be trasmit data over a channel that doesn't allow binary data transfer. That said, now it should be clear that you can have a stream encoded in Base64 that rapresent a stream UTF8 encoded.\n",
    "\n",
    "[What is the difference between utf-8 and base64](https://stackoverflow.com/questions/3866316/whats-the-difference-between-utf8-utf16-and-base64-in-terms-of-encoding#:~:text=But%20in%20languages%20where%20there's,to%20keep%20the%20concerns%20separate.&text=%2B1%20Base64%20is%20a%20way,ways%20to%20encode%20Unicode%20text.)"
   ]
  },
  {
   "cell_type": "markdown",
   "metadata": {},
   "source": [
    "#### Trying different encodings and decodings"
   ]
  },
  {
   "cell_type": "code",
   "execution_count": null,
   "metadata": {},
   "outputs": [],
   "source": [
    "message = \"hello world hello baba hello mama hello teta hello geddo\""
   ]
  },
  {
   "cell_type": "code",
   "execution_count": null,
   "metadata": {},
   "outputs": [],
   "source": [
    "print(\"Original Message: \" , message)\n",
    "\n",
    "print(\"#############################################################\")\n",
    "print(\"UTF-ENCDOING\")\n",
    "print(\"#############################################################\")\n",
    "print(\"Message with UTF-8 encoding: \",message.encode('utf-8'))\n",
    "print(\"Message with UTF-16 encoding: \",message.encode('utf-16'))\n",
    "print(\"Message with UTF-32 encoding: \",message.encode('utf-32'))\n",
    "\n",
    "\n",
    "print(\"#############################################################\")\n",
    "print(\"INT.FROM_BYTES little endian encoding\")\n",
    "print(\"#############################################################\")\n",
    "# testing int.from_bytes\n",
    "print(int.from_bytes(message.encode('utf-8'), 'little'))\n",
    "print(int.from_bytes(message.encode('utf-16'), 'little'))\n",
    "print(int.from_bytes(message.encode('utf-32'), 'little'))\n",
    "\n",
    "\n",
    "print(\"#############################################################\")\n",
    "print(\"Base64 Encoding\")\n",
    "print(\"#############################################################\")\n",
    "# encode with base64\n",
    "message_bytes = message.encode('utf-8')\n",
    "print(\"Message with base64 encoding: \", base64.b64encode(message_bytes))\n",
    "print(\"Message with a85 encoding: \", base64.a85encode(message_bytes))\n",
    "print(\"Message with b85 encoding: \", base64.b85encode(message_bytes))\n",
    "print(\"Message with b16 encoding: \", base64.b16encode(message_bytes))\n",
    "print(\"Message with b32 encoding: \", base64.b32encode(message_bytes))\n",
    "print(\"Message with b85 encoding: \", base64.b85encode(message_bytes))\n",
    "print(\"Message with b32hex encoding: \", base64.b32hexencode(message_bytes))\n",
    "print(\"Message with standard base64 encoding: \", base64.standard_b64encode(message_bytes))\n",
    "print(\"Message with urlsafe base64 encoding: \", base64.urlsafe_b64encode(message_bytes))\n",
    "\n",
    "print(\"#############################################################\")\n",
    "print(\"INT FROM_BYTES little endian encoding\")\n",
    "print(\"#############################################################\")\n",
    "# testing int.from_bytes\n",
    "print(int.from_bytes(base64.b64encode(message_bytes), 'little'))\n",
    "print(int.from_bytes(base64.a85encode(message_bytes), 'little'))\n",
    "print(int.from_bytes(base64.b85encode(message_bytes), 'little'))\n",
    "print(int.from_bytes(base64.b16encode(message_bytes), 'little'))\n",
    "print(int.from_bytes(base64.b32encode(message_bytes), 'little'))\n",
    "print(int.from_bytes(base64.b85encode(message_bytes), 'little'))\n",
    "print(int.from_bytes(base64.b32hexencode(message_bytes), 'little'))\n",
    "print(int.from_bytes(base64.standard_b64encode(message_bytes), 'little'))\n",
    "print(int.from_bytes(base64.urlsafe_b64encode(message_bytes), 'little'))\n",
    "\n",
    "print(message.encode('utf-8').decode('utf-8'))\n",
    "print(base64.b85decode(base64.b85encode(message.encode('utf-8'))).decode('utf-8'))"
   ]
  },
  {
   "cell_type": "code",
   "execution_count": 14,
   "metadata": {},
   "outputs": [
    {
     "ename": "TypeError",
     "evalue": "generate_prime() takes 2 positional arguments but 3 were given",
     "output_type": "error",
     "traceback": [
      "\u001b[1;31m---------------------------------------------------------------------------\u001b[0m",
      "\u001b[1;31mTypeError\u001b[0m                                 Traceback (most recent call last)",
      "Cell \u001b[1;32mIn[14], line 1\u001b[0m\n\u001b[1;32m----> 1\u001b[0m \u001b[43mgenerate_params_file\u001b[49m\u001b[43m(\u001b[49m\u001b[38;5;124;43m\"\u001b[39;49m\u001b[38;5;124;43magree.txt\u001b[39;49m\u001b[38;5;124;43m\"\u001b[39;49m\u001b[43m)\u001b[49m\n",
      "File \u001b[1;32mc:\\Users\\Oreo\\Documents\\Security\\Project\\helpers\\tools.py:92\u001b[0m, in \u001b[0;36mgenerate_params_file\u001b[1;34m(file_path)\u001b[0m\n\u001b[0;32m     88\u001b[0m     os\u001b[38;5;241m.\u001b[39mremove(file_path)\n\u001b[0;32m     90\u001b[0m \u001b[38;5;28;01mwith\u001b[39;00m \u001b[38;5;28mopen\u001b[39m(file_path, \u001b[38;5;124m'\u001b[39m\u001b[38;5;124mw\u001b[39m\u001b[38;5;124m'\u001b[39m) \u001b[38;5;28;01mas\u001b[39;00m file:\n\u001b[0;32m     91\u001b[0m     \u001b[38;5;66;03m# radomly generate the prime numbers\u001b[39;00m\n\u001b[1;32m---> 92\u001b[0m     q_dh, a_dh, q_gamal, a_gamal \u001b[38;5;241m=\u001b[39m \u001b[43mgenerate_prime\u001b[49m\u001b[43m(\u001b[49m\u001b[38;5;241;43m100\u001b[39;49m\u001b[43m,\u001b[49m\u001b[43m \u001b[49m\u001b[38;5;241;43m1000\u001b[39;49m\u001b[43m,\u001b[49m\u001b[43m \u001b[49m\u001b[38;5;241;43m4\u001b[39;49m\u001b[43m)\u001b[49m\n\u001b[0;32m     93\u001b[0m     file\u001b[38;5;241m.\u001b[39mwrite(\u001b[38;5;124mf\u001b[39m\u001b[38;5;124m'\u001b[39m\u001b[38;5;124mq_dh=\u001b[39m\u001b[38;5;132;01m{\u001b[39;00mq_dh\u001b[38;5;132;01m}\u001b[39;00m\u001b[38;5;130;01m\\n\u001b[39;00m\u001b[38;5;124m'\u001b[39m)\n\u001b[0;32m     94\u001b[0m     file\u001b[38;5;241m.\u001b[39mwrite(\u001b[38;5;124mf\u001b[39m\u001b[38;5;124m'\u001b[39m\u001b[38;5;124ma_dh=\u001b[39m\u001b[38;5;132;01m{\u001b[39;00ma_dh\u001b[38;5;132;01m}\u001b[39;00m\u001b[38;5;130;01m\\n\u001b[39;00m\u001b[38;5;124m'\u001b[39m)\n",
      "\u001b[1;31mTypeError\u001b[0m: generate_prime() takes 2 positional arguments but 3 were given"
     ]
    }
   ],
   "source": [
    "generate_params_file(\"agree.txt\")"
   ]
  },
  {
   "cell_type": "markdown",
   "metadata": {},
   "source": [
    "### 1. [Diffie-Hellman Key Exchange](#1)"
   ]
  },
  {
   "cell_type": "code",
   "execution_count": 13,
   "metadata": {},
   "outputs": [
    {
     "name": "stdout",
     "output_type": "stream",
     "text": [
      "Alice Private Key:  5\n",
      "Bob Private Key:  211\n",
      "Alice Public Key:  91\n",
      "Bob Public Key:  20\n",
      "Alice Secret Key and Bob Secret Key:  202 202\n"
     ]
    }
   ],
   "source": [
    "q_dh , a_dh , _ , _ = from_file('agree.txt')\n",
    "X_a = generate_prime(2,q_dh,1)\n",
    "print(\"Alice Private Key: \", X_a)\n",
    "X_b = generate_prime(2, q_dh,1)\n",
    "print(\"Bob Private Key: \", X_b)\n",
    "Y_a = deffie_hellman(prime=q_dh, generator=a_dh, private_key=X_a)\n",
    "print(\"Alice Public Key: \", Y_a)\n",
    "Y_b = deffie_hellman(prime=q_dh, generator=a_dh, private_key=X_b)\n",
    "print(\"Bob Public Key: \", Y_b)\n",
    "Ka = secret_key_from_dh(prime=q_dh, public_key=Y_b, private_key=X_a)\n",
    "Kb = secret_key_from_dh(prime=q_dh, public_key=Y_a, private_key=X_b)\n",
    "print(\"Alice Secret Key and Bob Secret Key: \", Ka, Kb)\n",
    "\n"
   ]
  },
  {
   "cell_type": "markdown",
   "metadata": {},
   "source": [
    "### 2. [AlGamal](#2)"
   ]
  },
  {
   "cell_type": "code",
   "execution_count": null,
   "metadata": {},
   "outputs": [],
   "source": []
  },
  {
   "cell_type": "code",
   "execution_count": null,
   "metadata": {},
   "outputs": [],
   "source": []
  },
  {
   "cell_type": "code",
   "execution_count": null,
   "metadata": {},
   "outputs": [],
   "source": []
  },
  {
   "cell_type": "markdown",
   "metadata": {},
   "source": [
    "### 3. [Initilization](#3)"
   ]
  },
  {
   "cell_type": "code",
   "execution_count": null,
   "metadata": {},
   "outputs": [],
   "source": []
  },
  {
   "cell_type": "code",
   "execution_count": null,
   "metadata": {},
   "outputs": [],
   "source": []
  },
  {
   "cell_type": "markdown",
   "metadata": {},
   "source": [
    "### 4. [Handling Messages](#4)"
   ]
  },
  {
   "cell_type": "code",
   "execution_count": null,
   "metadata": {},
   "outputs": [],
   "source": []
  },
  {
   "cell_type": "code",
   "execution_count": null,
   "metadata": {},
   "outputs": [],
   "source": []
  },
  {
   "cell_type": "markdown",
   "metadata": {},
   "source": [
    "### 5. [Integration to chat.py](#5)"
   ]
  },
  {
   "cell_type": "code",
   "execution_count": null,
   "metadata": {},
   "outputs": [],
   "source": []
  },
  {
   "cell_type": "code",
   "execution_count": null,
   "metadata": {},
   "outputs": [],
   "source": []
  },
  {
   "cell_type": "code",
   "execution_count": null,
   "metadata": {},
   "outputs": [],
   "source": []
  },
  {
   "cell_type": "code",
   "execution_count": null,
   "metadata": {},
   "outputs": [],
   "source": []
  },
  {
   "cell_type": "code",
   "execution_count": null,
   "metadata": {},
   "outputs": [],
   "source": []
  }
 ],
 "metadata": {
  "kernelspec": {
   "display_name": "Python 3",
   "language": "python",
   "name": "python3"
  },
  "language_info": {
   "codemirror_mode": {
    "name": "ipython",
    "version": 3
   },
   "file_extension": ".py",
   "mimetype": "text/x-python",
   "name": "python",
   "nbconvert_exporter": "python",
   "pygments_lexer": "ipython3",
   "version": "3.12.0"
  }
 },
 "nbformat": 4,
 "nbformat_minor": 2
}
