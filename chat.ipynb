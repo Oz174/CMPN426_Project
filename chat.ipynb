{
 "cells": [
  {
   "cell_type": "markdown",
   "metadata": {},
   "source": [
    "# This notebook is for testing purposes , It is not the final deliverable.\n",
    "## Contents:\n",
    "0. [Message Encoding with message blocks](#0)\n",
    "1. [Diffie-Hellman Key Exchange](#1)\n",
    "2. [AlGamal](#2)\n",
    "3. [Initilization](#3)\n",
    "4. [Handling Messages](#4)\n",
    "5. [Integration to chat.py](#5)"
   ]
  },
  {
   "cell_type": "markdown",
   "metadata": {},
   "source": [
    "0. [Message Encoding with message blocks](#0)"
   ]
  },
  {
   "cell_type": "markdown",
   "metadata": {},
   "source": [
    "### Import relevant libraries"
   ]
  },
  {
   "cell_type": "code",
   "execution_count": 11,
   "metadata": {},
   "outputs": [],
   "source": [
    "from helpers import dh_gamal\n",
    "from helpers import utils\n",
    "import base64"
   ]
  },
  {
   "cell_type": "markdown",
   "metadata": {},
   "source": [
    "### Message Encoding with message blocks"
   ]
  },
  {
   "cell_type": "markdown",
   "metadata": {},
   "source": [
    "The main reason to use Base64 is to be trasmit data over a channel that doesn't allow binary data transfer. That said, now it should be clear that you can have a stream encoded in Base64 that rapresent a stream UTF8 encoded.\n",
    "\n",
    "[What is the difference between utf-8 and base64](https://stackoverflow.com/questions/3866316/whats-the-difference-between-utf8-utf16-and-base64-in-terms-of-encoding#:~:text=But%20in%20languages%20where%20there's,to%20keep%20the%20concerns%20separate.&text=%2B1%20Base64%20is%20a%20way,ways%20to%20encode%20Unicode%20text.)"
   ]
  },
  {
   "cell_type": "markdown",
   "metadata": {},
   "source": [
    "#### Trying different encodings"
   ]
  },
  {
   "cell_type": "code",
   "execution_count": 2,
   "metadata": {},
   "outputs": [],
   "source": [
    "message = \"hello world hello baba hello mama hello teta hello geddo\""
   ]
  },
  {
   "cell_type": "code",
   "execution_count": null,
   "metadata": {},
   "outputs": [],
   "source": [
    "print(\"Original Message: \" , message)\n",
    "\n",
    "print(\"#############################################################\")\n",
    "print(\"UTF-ENCDOING\")\n",
    "print(\"#############################################################\")\n",
    "print(\"Message with UTF-8 encoding: \",message.encode('utf-8'))\n",
    "print(\"Message with UTF-16 encoding: \",message.encode('utf-16'))\n",
    "print(\"Message with UTF-32 encoding: \",message.encode('utf-32'))\n",
    "\n",
    "\n",
    "print(\"#############################################################\")\n",
    "print(\"INT.FROM_BYTES little endian encoding\")\n",
    "print(\"#############################################################\")\n",
    "# testing int.from_bytes\n",
    "print(int.from_bytes(message.encode('utf-8'), 'little'))\n",
    "print(int.from_bytes(message.encode('utf-16'), 'little'))\n",
    "print(int.from_bytes(message.encode('utf-32'), 'little'))\n",
    "\n",
    "\n",
    "print(\"#############################################################\")\n",
    "print(\"Base64 Encoding\")\n",
    "print(\"#############################################################\")\n",
    "# encode with base64\n",
    "message_bytes = message.encode('utf-8')\n",
    "print(\"Message with base64 encoding: \", base64.b64encode(message_bytes))\n",
    "print(\"Message with a85 encoding: \", base64.a85encode(message_bytes))\n",
    "print(\"Message with b85 encoding: \", base64.b85encode(message_bytes))\n",
    "print(\"Message with b16 encoding: \", base64.b16encode(message_bytes))\n",
    "print(\"Message with b32 encoding: \", base64.b32encode(message_bytes))\n",
    "print(\"Message with b85 encoding: \", base64.b85encode(message_bytes))\n",
    "print(\"Message with b32hex encoding: \", base64.b32hexencode(message_bytes))\n",
    "print(\"Message with standard base64 encoding: \", base64.standard_b64encode(message_bytes))\n",
    "print(\"Message with urlsafe base64 encoding: \", base64.urlsafe_b64encode(message_bytes))\n",
    "\n",
    "print(\"#############################################################\")\n",
    "print(\"INT FROM_BYTES little endian encoding\")\n",
    "print(\"#############################################################\")\n",
    "# testing int.from_bytes\n",
    "print(int.from_bytes(base64.b64encode(message_bytes), 'little'))\n",
    "print(int.from_bytes(base64.a85encode(message_bytes), 'little'))\n",
    "print(int.from_bytes(base64.b85encode(message_bytes), 'little'))\n",
    "print(int.from_bytes(base64.b16encode(message_bytes), 'little'))\n",
    "print(int.from_bytes(base64.b32encode(message_bytes), 'little'))\n",
    "print(int.from_bytes(base64.b85encode(message_bytes), 'little'))\n",
    "print(int.from_bytes(base64.b32hexencode(message_bytes), 'little'))\n",
    "print(int.from_bytes(base64.standard_b64encode(message_bytes), 'little'))\n",
    "print(int.from_bytes(base64.urlsafe_b64encode(message_bytes), 'little'))\n",
    "\n"
   ]
  },
  {
   "cell_type": "markdown",
   "metadata": {},
   "source": [
    "#### decoding (here we choose either utf-8 or base85)"
   ]
  },
  {
   "cell_type": "code",
   "execution_count": null,
   "metadata": {},
   "outputs": [],
   "source": [
    "print(message.encode('utf-8').decode('utf-8'))\n",
    "print(base64.b85decode(base64.b85encode(message.encode('utf-8'))).decode('utf-8'))"
   ]
  },
  {
   "cell_type": "markdown",
   "metadata": {},
   "source": [
    "### 1. [Diffie-Hellman Key Exchange](#1)"
   ]
  },
  {
   "cell_type": "code",
   "execution_count": 9,
   "metadata": {},
   "outputs": [
    {
     "name": "stdout",
     "output_type": "stream",
     "text": [
      "353 3\n"
     ]
    }
   ],
   "source": [
    "with open('agree.txt','r') as f:\n",
    "    sender_keys = f.readlines()\n",
    "    for key in sender_keys:\n",
    "        if 'q_dh' in key:\n",
    "            q_dh = int(key.split('=')[-1])\n",
    "        elif 'a_dh' in key:\n",
    "            a_dh = int(key.split('=')[-1])"
   ]
  },
  {
   "cell_type": "code",
   "execution_count": null,
   "metadata": {},
   "outputs": [],
   "source": []
  },
  {
   "cell_type": "markdown",
   "metadata": {},
   "source": [
    "### 2. [AlGamal](#2)"
   ]
  },
  {
   "cell_type": "code",
   "execution_count": null,
   "metadata": {},
   "outputs": [],
   "source": []
  },
  {
   "cell_type": "code",
   "execution_count": null,
   "metadata": {},
   "outputs": [],
   "source": []
  },
  {
   "cell_type": "code",
   "execution_count": null,
   "metadata": {},
   "outputs": [],
   "source": []
  },
  {
   "cell_type": "markdown",
   "metadata": {},
   "source": [
    "### 3. [Initilization](#3)"
   ]
  },
  {
   "cell_type": "code",
   "execution_count": null,
   "metadata": {},
   "outputs": [],
   "source": []
  },
  {
   "cell_type": "code",
   "execution_count": null,
   "metadata": {},
   "outputs": [],
   "source": []
  },
  {
   "cell_type": "markdown",
   "metadata": {},
   "source": [
    "### 4. [Handling Messages](#4)"
   ]
  },
  {
   "cell_type": "code",
   "execution_count": null,
   "metadata": {},
   "outputs": [],
   "source": []
  },
  {
   "cell_type": "code",
   "execution_count": null,
   "metadata": {},
   "outputs": [],
   "source": []
  },
  {
   "cell_type": "markdown",
   "metadata": {},
   "source": [
    "### 5. [Integration to chat.py](#5)"
   ]
  },
  {
   "cell_type": "code",
   "execution_count": null,
   "metadata": {},
   "outputs": [],
   "source": []
  },
  {
   "cell_type": "code",
   "execution_count": null,
   "metadata": {},
   "outputs": [],
   "source": []
  },
  {
   "cell_type": "code",
   "execution_count": null,
   "metadata": {},
   "outputs": [],
   "source": []
  },
  {
   "cell_type": "code",
   "execution_count": null,
   "metadata": {},
   "outputs": [],
   "source": []
  },
  {
   "cell_type": "code",
   "execution_count": null,
   "metadata": {},
   "outputs": [],
   "source": []
  }
 ],
 "metadata": {
  "kernelspec": {
   "display_name": "Python 3",
   "language": "python",
   "name": "python3"
  },
  "language_info": {
   "codemirror_mode": {
    "name": "ipython",
    "version": 3
   },
   "file_extension": ".py",
   "mimetype": "text/x-python",
   "name": "python",
   "nbconvert_exporter": "python",
   "pygments_lexer": "ipython3",
   "version": "3.12.0"
  }
 },
 "nbformat": 4,
 "nbformat_minor": 2
}
