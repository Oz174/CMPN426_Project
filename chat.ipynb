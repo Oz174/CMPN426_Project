{
 "cells": [
  {
   "cell_type": "markdown",
   "metadata": {},
   "source": [
    "# This notebook is for testing purposes , It is not the final deliverable.\n",
    "## Contents:\n",
    "0. [Message Encoding with message blocks](#0)\n",
    "1. [Diffie-Hellman Key Exchange](#1)\n",
    "2. [AlGamal](#2)\n",
    "3. [Initilization](#3)\n",
    "4. [Handling Messages](#4)\n",
    "5. [Integration to chat.py](#5)"
   ]
  },
  {
   "cell_type": "markdown",
   "metadata": {},
   "source": [
    "0. [Message Encoding with message blocks](#0)"
   ]
  },
  {
   "cell_type": "markdown",
   "metadata": {},
   "source": [
    "### Import relevant libraries"
   ]
  },
  {
   "cell_type": "code",
   "execution_count": 11,
   "metadata": {},
   "outputs": [],
   "source": [
    "from helpers import dh_gamal\n",
    "from helpers import utils"
   ]
  },
  {
   "cell_type": "markdown",
   "metadata": {},
   "source": [
    "### Message Encoding with message blocks"
   ]
  },
  {
   "cell_type": "markdown",
   "metadata": {},
   "source": [
    "The main reason to use Base64 is to be trasmit data over a channel that doesn't allow binary data transfer. That said, now it should be clear that you can have a stream encoded in Base64 that rapresent a stream UTF8 encoded.\n",
    "\n",
    "[What is the difference between utf-8 and base64](https://stackoverflow.com/questions/3866316/whats-the-difference-between-utf8-utf16-and-base64-in-terms-of-encoding#:~:text=But%20in%20languages%20where%20there's,to%20keep%20the%20concerns%20separate.&text=%2B1%20Base64%20is%20a%20way,ways%20to%20encode%20Unicode%20text.)"
   ]
  },
  {
   "cell_type": "markdown",
   "metadata": {},
   "source": [
    "#### Trying different encodings"
   ]
  },
  {
   "cell_type": "code",
   "execution_count": 2,
   "metadata": {},
   "outputs": [],
   "source": [
    "message = \"hello world hello baba hello mama hello teta hello geddo\""
   ]
  },
  {
   "cell_type": "code",
   "execution_count": null,
   "metadata": {},
   "outputs": [],
   "source": [
    "print(\"Original Message: \" , message)\n",
    "\n",
    "print(\"#############################################################\")\n",
    "print(\"UTF-ENCDOING\")\n",
    "print(\"#############################################################\")\n",
    "print(\"Message with UTF-8 encoding: \",message.encode('utf-8'))\n",
    "print(\"Message with UTF-16 encoding: \",message.encode('utf-16'))\n",
    "print(\"Message with UTF-32 encoding: \",message.encode('utf-32'))\n",
    "\n",
    "\n",
    "print(\"#############################################################\")\n",
    "print(\"INT.FROM_BYTES little endian encoding\")\n",
    "print(\"#############################################################\")\n",
    "# testing int.from_bytes\n",
    "print(int.from_bytes(message.encode('utf-8'), 'little'))\n",
    "print(int.from_bytes(message.encode('utf-16'), 'little'))\n",
    "print(int.from_bytes(message.encode('utf-32'), 'little'))\n",
    "\n",
    "\n",
    "print(\"#############################################################\")\n",
    "print(\"Base64 Encoding\")\n",
    "print(\"#############################################################\")\n",
    "# encode with base64\n",
    "message_bytes = message.encode('utf-8')\n",
    "print(\"Message with base64 encoding: \", base64.b64encode(message_bytes))\n",
    "print(\"Message with a85 encoding: \", base64.a85encode(message_bytes))\n",
    "print(\"Message with b85 encoding: \", base64.b85encode(message_bytes))\n",
    "print(\"Message with b16 encoding: \", base64.b16encode(message_bytes))\n",
    "print(\"Message with b32 encoding: \", base64.b32encode(message_bytes))\n",
    "print(\"Message with b85 encoding: \", base64.b85encode(message_bytes))\n",
    "print(\"Message with b32hex encoding: \", base64.b32hexencode(message_bytes))\n",
    "print(\"Message with standard base64 encoding: \", base64.standard_b64encode(message_bytes))\n",
    "print(\"Message with urlsafe base64 encoding: \", base64.urlsafe_b64encode(message_bytes))\n",
    "\n",
    "print(\"#############################################################\")\n",
    "print(\"INT FROM_BYTES little endian encoding\")\n",
    "print(\"#############################################################\")\n",
    "# testing int.from_bytes\n",
    "print(int.from_bytes(base64.b64encode(message_bytes), 'little'))\n",
    "print(int.from_bytes(base64.a85encode(message_bytes), 'little'))\n",
    "print(int.from_bytes(base64.b85encode(message_bytes), 'little'))\n",
    "print(int.from_bytes(base64.b16encode(message_bytes), 'little'))\n",
    "print(int.from_bytes(base64.b32encode(message_bytes), 'little'))\n",
    "print(int.from_bytes(base64.b85encode(message_bytes), 'little'))\n",
    "print(int.from_bytes(base64.b32hexencode(message_bytes), 'little'))\n",
    "print(int.from_bytes(base64.standard_b64encode(message_bytes), 'little'))\n",
    "print(int.from_bytes(base64.urlsafe_b64encode(message_bytes), 'little'))\n",
    "\n"
   ]
  },
  {
   "cell_type": "markdown",
   "metadata": {},
   "source": [
    "#### decoding (here we choose either utf-8 or base85)"
   ]
  },
  {
   "cell_type": "code",
   "execution_count": null,
   "metadata": {},
   "outputs": [],
   "source": [
    "print(message.encode('utf-8').decode('utf-8'))\n",
    "print(base64.b85decode(base64.b85encode(message.encode('utf-8'))).decode('utf-8'))"
   ]
  },
  {
   "cell_type": "markdown",
   "metadata": {},
   "source": [
    "** Using Message Blocks **"
   ]
  },
  {
   "cell_type": "code",
   "execution_count": null,
   "metadata": {},
   "outputs": [],
   "source": [
    "message_blocks = [message[i:i+4] for i in range(0, len(message), 4)]\n",
    "\n",
    "# trying utf-8 and base85 encoding\n",
    "utf_8_blocks = [block.encode('utf-8') for block in message_blocks]\n",
    "print(utf_8_blocks)\n",
    "base85_blocks = [base64.b85encode(block) for block in utf_8_blocks]\n",
    "print(base85_blocks)\n",
    "int_blocks = [int.from_bytes(block,'little') for block in base85_blocks]\n",
    "print(int_blocks)\n",
    "int_from_utf = [int.from_bytes(block,'little') for block in utf_8_blocks]\n",
    "print(int_from_utf)\n"
   ]
  },
  {
   "cell_type": "code",
   "execution_count": 3,
   "metadata": {},
   "outputs": [
    {
     "name": "stdout",
     "output_type": "stream",
     "text": [
      "[4909, 2903]\n"
     ]
    }
   ],
   "source": [
    "# we need large two prime numbers \n",
    "def is_prime(n):\n",
    "    if n <= 1 :\n",
    "            return False\n",
    "    else:\n",
    "            return all([n%i!=0 for i in range(2,int(n/2)+1)])\n",
    "\n",
    "@cache\n",
    "def generate_prime(low,high,how_many):\n",
    "    counter = how_many\n",
    "    primes = []\n",
    "    while counter :\n",
    "            prime_num = 1\n",
    "            while not is_prime(prime_num):\n",
    "                    prime_num = np.random.randint(low=low,high=high)\n",
    "            counter -= 1\n",
    "            primes.append(prime_num)\n",
    "    return primes\n",
    "\n",
    "primes = generate_prime(1000,5000,2)\n",
    "print(primes)"
   ]
  },
  {
   "cell_type": "code",
   "execution_count": 12,
   "metadata": {},
   "outputs": [],
   "source": [
    "def enforce_message_encoding(message:str , n:int , encoding:str = 'utf-8') -> Union[int,List[int]]:\n",
    "    # try encoding the whole message \n",
    "    message_bytes = message.encode('utf-8')\n",
    "    if int.from_bytes(message_bytes,'little') > n :\n",
    "    # split the message into blocks and encode each block\n",
    "        message_blocks = [message[i:i+2] for i in range(0, len(message), 2)]\n",
    "        utf_8_blocks = [block.encode('utf-8') for block in message_blocks]\n",
    "        if encoding == 'base85':\n",
    "            utf_8_blocks = [base64.b85encode(block) for block in utf_8_blocks]\n",
    "        int_blocks = [int.from_bytes(block,'little') for block in utf_8_blocks]\n",
    "    else:\n",
    "        if encoding == 'base85':\n",
    "            message_bytes = base64.b85encode(message_bytes)\n",
    "        int_blocks = int.from_bytes(message_bytes,'little')\n",
    "    return int_blocks\n"
   ]
  },
  {
   "cell_type": "code",
   "execution_count": 16,
   "metadata": {},
   "outputs": [
    {
     "name": "stdout",
     "output_type": "stream",
     "text": [
      "[25960, 27756, 8303, 24930, 24930]\n",
      "[6318936, 8138073, 2783578, 7369046, 7369046]\n"
     ]
    }
   ],
   "source": [
    "print(enforce_message_encoding('hello baba',primes[0]*primes[1],'utf-8'))\n",
    "print(enforce_message_encoding('hello baba',primes[0]*primes[1],'base85'))"
   ]
  },
  {
   "cell_type": "markdown",
   "metadata": {},
   "source": [
    "### 1. [Diffie-Hellman Key Exchange](#1)"
   ]
  },
  {
   "cell_type": "code",
   "execution_count": 18,
   "metadata": {},
   "outputs": [
    {
     "name": "stdout",
     "output_type": "stream",
     "text": [
      "8\n",
      "19\n",
      "2\n",
      "2\n"
     ]
    }
   ],
   "source": [
    "def deffie_hellman(prime:int , generator:int , private_key:int):\n",
    "    # generator is the primitive root of the prime number\n",
    "    # private_key is the private key of the user\n",
    "    # public key is the generator raised to the power of the private key modulo the prime number\n",
    "    public_key = (generator\n",
    "                    **private_key) % prime\n",
    "    return public_key\n",
    "\n",
    "def secret_key_from_dh(prime:int , public_key:int , private_key:int):\n",
    "    # the secret key is the public key raised to the power of the private key modulo the prime number\n",
    "    secret_key = (public_key\n",
    "                    **private_key) % prime\n",
    "    return secret_key\n",
    "\n",
    "# testing \n",
    "prime = 23\n",
    "generator = 5\n",
    "alice_private_key = 6\n",
    "bob_private_key = 15\n",
    "alice_public_key = deffie_hellman(prime,generator,alice_private_key)\n",
    "bob_public_key = deffie_hellman(prime,generator,bob_private_key)\n",
    "print(alice_public_key)\n",
    "print(bob_public_key)\n",
    "alice_secret_key = secret_key_from_dh(prime,bob_public_key,alice_private_key)\n",
    "bob_secret_key = secret_key_from_dh(prime,alice_public_key,bob_private_key)\n",
    "print(alice_secret_key)\n",
    "print(bob_secret_key)\n"
   ]
  },
  {
   "cell_type": "code",
   "execution_count": 9,
   "metadata": {},
   "outputs": [
    {
     "name": "stdout",
     "output_type": "stream",
     "text": [
      "353 3\n"
     ]
    }
   ],
   "source": [
    "with open('agree.txt','r') as f:\n",
    "    sender_keys = f.readlines()\n",
    "    for key in sender_keys:\n",
    "        if 'q_dh' in key:\n",
    "            q_dh = int(key.split('=')[-1])\n",
    "        elif 'a_dh' in key:\n",
    "            a_dh = int(key.split('=')[-1])\n",
    "\n",
    "print(q_dh,a_dh)\n"
   ]
  },
  {
   "cell_type": "code",
   "execution_count": null,
   "metadata": {},
   "outputs": [],
   "source": []
  },
  {
   "cell_type": "markdown",
   "metadata": {},
   "source": [
    "### 2. [AlGamal](#2)"
   ]
  },
  {
   "cell_type": "code",
   "execution_count": null,
   "metadata": {},
   "outputs": [],
   "source": []
  },
  {
   "cell_type": "code",
   "execution_count": null,
   "metadata": {},
   "outputs": [],
   "source": []
  },
  {
   "cell_type": "code",
   "execution_count": null,
   "metadata": {},
   "outputs": [],
   "source": []
  },
  {
   "cell_type": "markdown",
   "metadata": {},
   "source": [
    "### 3. [Initilization](#3)"
   ]
  },
  {
   "cell_type": "code",
   "execution_count": null,
   "metadata": {},
   "outputs": [],
   "source": []
  },
  {
   "cell_type": "code",
   "execution_count": null,
   "metadata": {},
   "outputs": [],
   "source": []
  },
  {
   "cell_type": "markdown",
   "metadata": {},
   "source": [
    "### 4. [Handling Messages](#4)"
   ]
  },
  {
   "cell_type": "code",
   "execution_count": null,
   "metadata": {},
   "outputs": [],
   "source": []
  },
  {
   "cell_type": "code",
   "execution_count": null,
   "metadata": {},
   "outputs": [],
   "source": []
  },
  {
   "cell_type": "markdown",
   "metadata": {},
   "source": [
    "### 5. [Integration to chat.py](#5)"
   ]
  },
  {
   "cell_type": "code",
   "execution_count": null,
   "metadata": {},
   "outputs": [],
   "source": []
  },
  {
   "cell_type": "code",
   "execution_count": null,
   "metadata": {},
   "outputs": [],
   "source": []
  },
  {
   "cell_type": "code",
   "execution_count": null,
   "metadata": {},
   "outputs": [],
   "source": []
  },
  {
   "cell_type": "code",
   "execution_count": null,
   "metadata": {},
   "outputs": [],
   "source": []
  },
  {
   "cell_type": "code",
   "execution_count": null,
   "metadata": {},
   "outputs": [],
   "source": []
  }
 ],
 "metadata": {
  "kernelspec": {
   "display_name": "Python 3",
   "language": "python",
   "name": "python3"
  },
  "language_info": {
   "codemirror_mode": {
    "name": "ipython",
    "version": 3
   },
   "file_extension": ".py",
   "mimetype": "text/x-python",
   "name": "python",
   "nbconvert_exporter": "python",
   "pygments_lexer": "ipython3",
   "version": "3.12.0"
  }
 },
 "nbformat": 4,
 "nbformat_minor": 2
}
